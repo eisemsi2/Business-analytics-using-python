{
  "nbformat": 4,
  "nbformat_minor": 0,
  "metadata": {
    "colab": {
      "name": "A1Q1.ipynb",
      "provenance": [],
      "collapsed_sections": []
    },
    "kernelspec": {
      "name": "python3",
      "display_name": "Python 3"
    },
    "language_info": {
      "name": "python"
    }
  },
  "cells": [
    {
      "cell_type": "code",
      "execution_count": 1,
      "metadata": {
        "id": "vEqiImQ9mApI"
      },
      "outputs": [],
      "source": [
        "import numpy as np"
      ]
    },
    {
      "cell_type": "code",
      "source": [
        "arr = np.random.randn(16)\n",
        "arr"
      ],
      "metadata": {
        "colab": {
          "base_uri": "https://localhost:8080/"
        },
        "id": "fZjOQyY_mENm",
        "outputId": "50857618-5f62-4723-84ea-e7c3ad6fe060"
      },
      "execution_count": 2,
      "outputs": [
        {
          "output_type": "execute_result",
          "data": {
            "text/plain": [
              "array([-0.38504056, -0.98180744,  0.98886463, -0.78085391,  1.3977566 ,\n",
              "        0.58313372,  0.4162447 ,  0.32963082, -0.17863436,  0.59076994,\n",
              "        0.0573346 ,  1.33723834,  0.3755999 , -1.47372271,  1.54174595,\n",
              "       -0.07509979])"
            ]
          },
          "metadata": {},
          "execution_count": 2
        }
      ]
    },
    {
      "cell_type": "code",
      "source": [
        "arr = arr.reshape(4,4)\n",
        "arr"
      ],
      "metadata": {
        "colab": {
          "base_uri": "https://localhost:8080/"
        },
        "id": "0Uy_y7ZYmNno",
        "outputId": "cf6c0b34-93a9-4a6b-cc35-3c6d2e37588f"
      },
      "execution_count": 8,
      "outputs": [
        {
          "output_type": "execute_result",
          "data": {
            "text/plain": [
              "array([[-0.38504056, -0.98180744,  0.98886463, -0.78085391],\n",
              "       [ 1.3977566 ,  0.58313372,  0.4162447 ,  0.32963082],\n",
              "       [-0.17863436,  0.59076994,  0.0573346 ,  1.33723834],\n",
              "       [ 0.3755999 , -1.47372271,  1.54174595, -0.07509979]])"
            ]
          },
          "metadata": {},
          "execution_count": 8
        }
      ]
    },
    {
      "cell_type": "code",
      "source": [
        "arr = arr.transpose()\n",
        "arr"
      ],
      "metadata": {
        "colab": {
          "base_uri": "https://localhost:8080/"
        },
        "id": "Dc4YVq99mXyl",
        "outputId": "7247b6b7-623c-49ea-f8cd-6c8da7dc383a"
      },
      "execution_count": 11,
      "outputs": [
        {
          "output_type": "execute_result",
          "data": {
            "text/plain": [
              "array([[-0.38504056, -0.98180744,  0.98886463, -0.78085391],\n",
              "       [ 1.3977566 ,  0.58313372,  0.4162447 ,  0.32963082],\n",
              "       [-0.17863436,  0.59076994,  0.0573346 ,  1.33723834],\n",
              "       [ 0.3755999 , -1.47372271,  1.54174595, -0.07509979]])"
            ]
          },
          "metadata": {},
          "execution_count": 11
        }
      ]
    },
    {
      "cell_type": "code",
      "source": [
        "arr.reshape(2,8)"
      ],
      "metadata": {
        "colab": {
          "base_uri": "https://localhost:8080/"
        },
        "id": "MbREoGcimdej",
        "outputId": "b5b52707-88b7-448d-f1b6-f870f990f922"
      },
      "execution_count": 13,
      "outputs": [
        {
          "output_type": "execute_result",
          "data": {
            "text/plain": [
              "array([[-0.38504056, -0.98180744,  0.98886463, -0.78085391,  1.3977566 ,\n",
              "         0.58313372,  0.4162447 ,  0.32963082],\n",
              "       [-0.17863436,  0.59076994,  0.0573346 ,  1.33723834,  0.3755999 ,\n",
              "        -1.47372271,  1.54174595, -0.07509979]])"
            ]
          },
          "metadata": {},
          "execution_count": 13
        }
      ]
    },
    {
      "cell_type": "code",
      "source": [
        ""
      ],
      "metadata": {
        "id": "5Jjsa7R1msMo"
      },
      "execution_count": null,
      "outputs": []
    }
  ]
}